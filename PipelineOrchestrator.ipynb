{
    "cells": [
        {
            "cell_type": "code",
            "execution_count": 1,
            "metadata": {},
            "outputs": [
                {
                    "name": "stdout",
                    "output_type": "stream",
                    "text": [
                        "Configuration Loaded\n",
                        "- Running Pipeline... -\n",
                        "-- Skipped Processing Data --\n",
                        "-- Building Architecture... --\n",
                        "--- Architecture Built ---\n",
                        "-- Training model using device: cuda --\n",
                        "Epoch 1/5 - Time: 5.52s\n",
                        "  Training Loss: 0.6492\n",
                        "  Validation Loss: 0.5644\n",
                        "Epoch 2/5 - Time: 7.01s\n",
                        "  Training Loss: 0.5638\n",
                        "  Validation Loss: 0.5572\n",
                        "Epoch 3/5 - Time: 19.88s\n",
                        "  Training Loss: 0.5570\n",
                        "  Validation Loss: 0.5535\n",
                        "Epoch 4/5 - Time: 20.25s\n",
                        "  Training Loss: 0.5568\n",
                        "  Validation Loss: 0.5602\n",
                        "Epoch 5/5 - Time: 24.96s\n",
                        "  Training Loss: 0.5560\n",
                        "  Validation Loss: 0.5621\n",
                        "--- Training Complete ---\n",
                        "- Done -\n"
                    ]
                }
            ],
            "source": [
                "import yaml\n",
                "from src.DataProcessor import DataProcessor\n",
                "from src.ModelBuilder import ModelBuilder\n",
                "from src.ModelTrainer import ModelTrainer\n",
                "from src.ArtifactsManager import ArtifactsManager\n",
                "# from src.evaluator.Evaluator import Evaluator\n",
                "\n",
                "class PipelineOrchestrator:\n",
                "    def __init__(self, config_file=\"config.yaml\"):\n",
                "        self.config = self._load_config(config_file)\n",
                "        self.artifacts_manager = ArtifactsManager(self.config)\n",
                "        self.data_processor = DataProcessor(self.config[\"processor_config\"])\n",
                "        self.model_builder = ModelBuilder(self.config[\"model_config\"])\n",
                "        self.model_trainer = ModelTrainer(self.config[\"trainer_config\"])\n",
                "        # self.evaluator = Evaluator()\n",
                "\n",
                "    def _load_config(self, config_file):\n",
                "        with open(config_file, \"r\") as file:\n",
                "            print(\"Configuration Loaded\")\n",
                "            return yaml.safe_load(file)\n",
                "    \n",
                "    def run(self):\n",
                "        print(\"- Running Pipeline... -\")\n",
                "        self.data_processor.process()\n",
                "        model_architecture = self.model_builder.build()\n",
                "        trained_model, training_report = self.model_trainer.train_and_validate(model_architecture)   \n",
                "        self.artifacts_manager.save_artifacts(trained_model, training_report)  # save trained model and training report\n",
                "        # evaluation_report = self.evaluator.evaluate(trained_model) \n",
                "        # self.artifacts_manager.save_artifacts(evaluation_report) \n",
                "        print(\"- Done -\")\n",
                "\n",
                "PipelineOrchestrator().run()"
            ]
        }
    ],
    "metadata": {
        "kernelspec": {
            "display_name": "usr",
            "language": "python",
            "name": "python3"
        },
        "language_info": {
            "codemirror_mode": {
                "name": "ipython",
                "version": 3
            },
            "file_extension": ".py",
            "mimetype": "text/x-python",
            "name": "python",
            "nbconvert_exporter": "python",
            "pygments_lexer": "ipython3",
            "version": "3.8.10"
        }
    },
    "nbformat": 4,
    "nbformat_minor": 2
}

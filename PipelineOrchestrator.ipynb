{
 "cells": [
  {
   "cell_type": "code",
   "execution_count": null,
   "metadata": {},
   "outputs": [
    {
     "name": "stdout",
     "output_type": "stream",
     "text": [
      "{'preprocessing_config': {'num_train_samples': 10000, 'num_val_samples': 10000, 'num_test_samples': 20000, 'data_augmentation': {'sort_by_x': False, 'larger_tetrahedron_first': False, 'use_pluecker_coordinates': False, 'apply_affine_transformations': False, 'vertex_symmetric_augmentation_pct': 0, 'tetrahedron_symmetric_augmentation_pct': 0}}, 'encoder_config': {'type': 'deep_set', 'hidden_layers': [128, 128], 'activation_function': 'relu', 'use_contrastive_learning': False, 'contrastive_learning': {'loss_function': 'cosine_similarity', 'evaluation_metric': 'contrastive_accuracy', 'margin': 0.001, 'learning_rate': 0.001, 'epochs': 20, 'batch_size': 64, 'dropout_rate': 0.0, 'weight_decay': 0.0}}, 'decoder_config': {'type': 'mlp', 'hidden_layers': [128], 'activation_function': 'relu', 'training_parameters': {'loss_function': 'binary_crossentropy', 'evaluation_metric': 'accuracy', 'learning_rate': 0.001, 'epochs': 20, 'batch_size': 64, 'optimizer': 'adam', 'learning_rate_schedule': None}, 'task': 'classification'}, 'logging': {'level': 'info', 'log_to_file': True, 'log_file_path': 'logs/training.log'}}\n"
     ]
    }
   ],
   "source": [
    "import yaml\n",
    "from src.ModelBuilder import ModelBuilder\n",
    "from src.DataProcessor import DataProcessor\n",
    "from src.ModelTrainer import ModelTrainer\n",
    "from src.ArtifactsManager import ArtifactsManager\n",
    "from src.evaluator.Evaluator import Evaluator\n",
    "\n",
    "class PipelineOrchestrator:\n",
    "    def __init__(self, config_file=\"config.yaml\"):\n",
    "        self.config = self._load_config(config_file)\n",
    "        self.data_processor = DataProcessor(self.config[\"processor_config\"])\n",
    "        self.model_builder = ModelBuilder(self.config[\"model_config\"])\n",
    "        self.model_trainer = ModelTrainer(self.config[\"trainer_config\"])\n",
    "        self.evaluator = Evaluator()\n",
    "        self.artifacts_manager = ArtifactsManager(self.config[\"artifacts_config\"])\n",
    "\n",
    "    def _load_config(self, config_file):\n",
    "        with open(config_file, \"r\") as file:\n",
    "            print(\"Configuration Loaded\")\n",
    "            return yaml.safe_load(file)\n",
    "    \n",
    "    def run(self):\n",
    "        print(\"Running Pipeline\")\n",
    "        self.data_processor.process()\n",
    "        model_architecture = self.model_builder.build()\n",
    "        trained_model, training_report = self.model_trainer.train_and_validate(model_architecture)   \n",
    "        evaluation_report = self.evaluator.evaluate(trained_model) \n",
    "        self.artifacts_manager.save_artifacts(trained_model, training_report, evaluation_report, self.config)  \n",
    "\n",
    "PipelineOrchestrator().run()"
   ]
  }
 ],
 "metadata": {
  "kernelspec": {
   "display_name": "usr",
   "language": "python",
   "name": "python3"
  },
  "language_info": {
   "codemirror_mode": {
    "name": "ipython",
    "version": 3
   },
   "file_extension": ".py",
   "mimetype": "text/x-python",
   "name": "python",
   "nbconvert_exporter": "python",
   "pygments_lexer": "ipython3",
   "version": "3.8.10"
  }
 },
 "nbformat": 4,
 "nbformat_minor": 2
}

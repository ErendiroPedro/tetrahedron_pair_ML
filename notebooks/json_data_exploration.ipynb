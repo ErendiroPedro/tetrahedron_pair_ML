{
 "cells": [
  {
   "cell_type": "markdown",
   "metadata": {},
   "source": [
    "Intersection Status Class Imbalance"
   ]
  },
  {
   "cell_type": "code",
   "execution_count": 8,
   "metadata": {},
   "outputs": [
    {
     "name": "stdout",
     "output_type": "stream",
     "text": [
      "Percentage of entries with intersection_status = 0: 50.00%\n",
      "Percentage of entries with intersection_status = 1: 50.00%\n"
     ]
    }
   ],
   "source": [
    "import json\n",
    "\n",
    "with open('/home/sei/tetrahedron_pair_ML/data/raw/train/train_tetrahedron_pair_200.0k_dataset.json', 'r') as file:\n",
    "    data = json.load(file)\n",
    "\n",
    "total_entries = len(data)\n",
    "status_0_count = sum(1 for entry in data if entry.get('intersection_status') == 0)\n",
    "status_1_count = sum(1 for entry in data if entry.get('intersection_status') == 1)\n",
    "\n",
    "percentage_status_0 = (status_0_count / total_entries) * 100\n",
    "percentage_status_1 = (status_1_count / total_entries) * 100\n",
    "\n",
    "print(f\"Percentage of entries with intersection_status = 0: {percentage_status_0:.2f}%\")\n",
    "print(f\"Percentage of entries with intersection_status = 1: {percentage_status_1:.2f}%\")\n"
   ]
  },
  {
   "cell_type": "markdown",
   "metadata": {},
   "source": [
    "Vertices Coordinates Value Normalization"
   ]
  },
  {
   "cell_type": "code",
   "execution_count": 10,
   "metadata": {},
   "outputs": [
    {
     "name": "stdout",
     "output_type": "stream",
     "text": [
      "All vertices are normalized!\n"
     ]
    }
   ],
   "source": [
    "import numpy as np\n",
    "\n",
    "not_normalized = False \n",
    "for item in data:\n",
    "    for key in item:\n",
    "        if 'tetra' in key:\n",
    "            vertices = item[key]['vertices']\n",
    "            coords_array = np.array(vertices)\n",
    "            \n",
    "            if np.any((coords_array < 0) | (coords_array > 1)):\n",
    "                not_normalized = True\n",
    "                break\n",
    "\n",
    "    if not_normalized:\n",
    "        break\n",
    "\n",
    "if not not_normalized:\n",
    "    print(\"All vertices are normalized!\")\n",
    "else:\n",
    "    print(\"Some vertices are not normalized.\")"
   ]
  }
 ],
 "metadata": {
  "kernelspec": {
   "display_name": "Python 3",
   "language": "python",
   "name": "python3"
  },
  "language_info": {
   "codemirror_mode": {
    "name": "ipython",
    "version": 3
   },
   "file_extension": ".py",
   "mimetype": "text/x-python",
   "name": "python",
   "nbconvert_exporter": "python",
   "pygments_lexer": "ipython3",
   "version": "3.8.10"
  }
 },
 "nbformat": 4,
 "nbformat_minor": 2
}
